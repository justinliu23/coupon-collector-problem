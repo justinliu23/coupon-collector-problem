{
  "cells": [
    {
      "cell_type": "code",
      "execution_count": null,
      "metadata": {
        "colab": {
          "base_uri": "https://localhost:8080/"
        },
        "id": "Jd51kzHtZTuA",
        "outputId": "daa8dda2-911d-46af-a15e-2597b49b43ca"
      },
      "outputs": [
        {
          "name": "stdout",
          "output_type": "stream",
          "text": [
            "Number of steps for each trial:  [9, 6, 7, 11, 6, 15, 6, 7, 9, 9]\n",
            "Average number of steps:  8.5\n"
          ]
        },
        {
          "data": {
            "text/plain": [
              "8.5"
            ]
          },
          "execution_count": 1,
          "metadata": {},
          "output_type": "execute_result"
        }
      ],
      "source": [
        "import random\n",
        "\n",
        "def coupon_collector(num_coupons, num_trials):\n",
        "    total_steps = 0\n",
        "    steps_per_trial = []\n",
        "\n",
        "    for _ in range(num_trials):\n",
        "        collected = [False]*num_coupons\n",
        "        steps = 0\n",
        "\n",
        "        while not all(collected):\n",
        "            coupon = random.randint(0, num_coupons-1)\n",
        "            collected[coupon] = True\n",
        "            steps += 1\n",
        "\n",
        "        steps_per_trial.append(steps)\n",
        "        total_steps += steps\n",
        "\n",
        "    average_steps = total_steps / num_trials\n",
        "\n",
        "    print(\"Number of steps for each trial: \", steps_per_trial)\n",
        "    print(\"Average number of steps: \", average_steps)\n",
        "\n",
        "    return average_steps\n",
        "\n",
        "# Test the function\n",
        "coupon_collector(5, 10)"
      ]
    },
    {
      "cell_type": "markdown",
      "metadata": {
        "id": "6w3Y-8VvXZ8W"
      },
      "source": [
        "In this code, n is the total number of different coupons. The function coupon_collector(n) simulates one round of the coupon collector's problem and returns the number of trials needed to collect all n coupons.\n",
        "\n",
        "We then run the simulation for a certain number of trials, and calculate the average number of trials needed to collect all coupons. The result should be close to n * log(n)\n",
        ", which is the expected number of trials in the coupon collector's problem."
      ]
    },
    {
      "cell_type": "code",
      "execution_count": null,
      "metadata": {
        "colab": {
          "base_uri": "https://localhost:8080/"
        },
        "id": "_T2TBYQLXqyD",
        "outputId": "3683d3e3-3719-437c-df94-4b18ca3cd1d7"
      },
      "outputs": [
        {
          "name": "stdout",
          "output_type": "stream",
          "text": [
            "Expected number of draws to collect all 10 coupons: 28.993\n"
          ]
        }
      ],
      "source": [
        "import random\n",
        "\n",
        "def coupon_collector(n):\n",
        "  collected = [False] * n\n",
        "  draws = 0\n",
        "\n",
        "  while not all(collected):\n",
        "    i = random.randint(0, n-1)\n",
        "    collected[i] = True\n",
        "    draws += 1\n",
        "\n",
        "  return draws\n",
        "\n",
        "num_trials = 1000\n",
        "total_draws = 0\n",
        "\n",
        "for i in range(num_trials):\n",
        "  total_draws += coupon_collector(10)\n",
        "\n",
        "expected_draws = total_draws / num_trials\n",
        "print(f\"Expected number of draws to collect all 10 coupons: {expected_draws}\")"
      ]
    },
    {
      "cell_type": "markdown",
      "metadata": {
        "id": "A4OV8DIXYkW4"
      },
      "source": [
        "\n",
        "\n",
        "1.   29.285\n",
        "2.   29.157\n",
        "3. 29.106\n",
        "4. 29.416\n",
        "5. 28.964\n",
        "6. 29.222\n",
        "7. 29.381\n",
        "8. 29.395\n",
        "9. 29.478\n",
        "10. 28.993\n",
        "\n",
        "Average: 29.2397\n",
        "\n"
      ]
    },
    {
      "cell_type": "code",
      "execution_count": null,
      "metadata": {
        "colab": {
          "base_uri": "https://localhost:8080/"
        },
        "id": "DiOU63brbEp6",
        "outputId": "d51cdf73-a208-4517-9548-c12f5e2e0d5d"
      },
      "outputs": [
        {
          "name": "stdout",
          "output_type": "stream",
          "text": [
            "Mean is: 29.2397\n"
          ]
        }
      ],
      "source": [
        "import statistics\n",
        "\n",
        "values = [29.285, 29.157, 29.106, 29.416, 28.964, 29.222, 29.381, 29.395, 29.478, 28.993]\n",
        "\n",
        "mean = statistics.mean(values)\n",
        "\n",
        "print(f\"Mean is: {mean}\")"
      ]
    },
    {
      "cell_type": "markdown",
      "metadata": {
        "id": "6rGraVg3XyJA"
      },
      "source": [
        "This simulates the process num_trials times with n=10 coupons. It tracks the total number of draws across all trials and calculates the expected number of draws by taking the average.\n",
        "\n",
        "Some key things it's doing:\n",
        "\n",
        "Tracks collected coupons in a list initialized to all False\n",
        "Draws a random coupon index each iteration\n",
        "Marks that coupon as collected\n",
        "Counts draws until all are collected\n",
        "Runs many trials to get an estimate of expected draws\n",
        "Let me know if any part needs more explanation! We could also analyze the results or expand it to test different numbers of coupons."
      ]
    },
    {
      "cell_type": "code",
      "execution_count": null,
      "metadata": {
        "colab": {
          "base_uri": "https://localhost:8080/"
        },
        "id": "lwhGoGU_Z5lV",
        "outputId": "7f28e6f7-c1c0-4959-88b9-12edbfb48ba0"
      },
      "outputs": [
        {
          "name": "stdout",
          "output_type": "stream",
          "text": [
            "Expected number of draws to collect all 10 coupons: 28.642\n"
          ]
        }
      ],
      "source": [
        "import random\n",
        "\n",
        "def coupon_collector(n):\n",
        "    collected = [False] * n\n",
        "    draws = 0\n",
        "\n",
        "    while not all(collected):\n",
        "        i = random.randint(0, n-1)\n",
        "        collected[i] = True\n",
        "        draws += 1\n",
        "\n",
        "    return draws\n",
        "\n",
        "num_trials = 1000\n",
        "total_draws = 0\n",
        "\n",
        "for i in range(num_trials):\n",
        "    total_draws += coupon_collector(10)  # Change 10 to any other number of coupons if needed\n",
        "\n",
        "expected_draws = total_draws / num_trials\n",
        "print(f\"Expected number of draws to collect all 10 coupons: {expected_draws}\")\n"
      ]
    },
    {
      "cell_type": "markdown",
      "metadata": {
        "id": "M3A_Hsd-Z8zf"
      },
      "source": [
        "1. 29.645\n",
        "2. 28.917\n",
        "3. 29.167\n",
        "4. 29.512\n",
        "5. 29.008\n",
        "6. 29.033\n",
        "7. 29.092\n",
        "8. 29.307\n",
        "9. 29.671\n",
        "10. 28.642\n",
        "\n",
        "Average: 29.1994"
      ]
    },
    {
      "cell_type": "code",
      "execution_count": null,
      "metadata": {
        "colab": {
          "base_uri": "https://localhost:8080/"
        },
        "id": "IYQjhNAbbb6v",
        "outputId": "b3c1d2f5-5ae6-4798-ece9-327b94d13c80"
      },
      "outputs": [
        {
          "name": "stdout",
          "output_type": "stream",
          "text": [
            "Mean is: 29.1994\n"
          ]
        }
      ],
      "source": [
        "import statistics\n",
        "\n",
        "values = [29.645, 28.917, 29.167, 29.512, 29.008, 29.033, 29.092, 29.307, 29.671, 28.642]\n",
        "\n",
        "mean = statistics.mean(values)\n",
        "\n",
        "print(f\"Mean is: {mean}\")"
      ]
    },
    {
      "cell_type": "markdown",
      "metadata": {
        "id": "TE8kD-l3bncS"
      },
      "source": [
        "Code Breakdown\n",
        "Function Definition:\n",
        "\n",
        "The function coupon_collector(n) simulates the process of collecting all n different coupons.\n",
        "It uses a list collected initialized to all False values to track which coupons have been collected.\n",
        "Coupon Drawing Simulation:\n",
        "\n",
        "The while not all(collected) loop continues until all values in collected are True, meaning each type of coupon has been collected at least once.\n",
        "Inside the loop, random.randint(0, n-1) is used to simulate drawing a coupon at random, which is then marked as collected.\n",
        "draws is incremented with each draw to count the total number of draws needed.\n",
        "Experiment Setup:\n",
        "\n",
        "The num_trials variable controls how many times the entire coupon collection simulation is run. This helps in getting a more accurate estimate by averaging results over multiple trials.\n",
        "The simulation is executed for num_trials times in a loop, each time adding the number of draws required to a total counter total_draws.\n",
        "Result Calculation:\n",
        "\n",
        "The average number of draws needed across all trials is calculated and printed. This average gives you the expected number of draws required to collect all coupons when you start from scratch.\n",
        "Extensions and Modifications\n",
        "Change Number of Coupons:\n",
        "\n",
        "You can easily modify the number of coupons n to see how the expected number of draws changes with different numbers of coupon types.\n",
        "Increase Trials for More Accuracy:\n",
        "\n",
        "Increasing the number of trials (num_trials) will yield a more accurate estimate of the expected number of draws, especially useful for larger values of n.\n",
        "Analysis of Results:\n",
        "\n",
        "You could add functionality to the code to analyze the distribution of the number of draws needed, such as calculating the standard deviation or plotting a histogram.\n",
        "Efficiency Improvements:\n",
        "\n",
        "For large values of n, you might consider optimizing the loop or exploring more efficient ways to check if all coupons have been collected.\n",
        "Example Usage:\n",
        "To use the code for a different number of coupons, simply change the argument in the coupon_collector function call within the loop. For example, to test with 20 coupons, replace coupon_collector(10) with coupon_collector(20)."
      ]
    },
    {
      "cell_type": "code",
      "execution_count": null,
      "metadata": {
        "colab": {
          "base_uri": "https://localhost:8080/"
        },
        "id": "x_vgkovPcxzZ",
        "outputId": "76405043-9167-4404-caec-b6f335fb586f"
      },
      "outputs": [
        {
          "name": "stdout",
          "output_type": "stream",
          "text": [
            "Expected number of draws to collect all 10 coupons: 29.746\n"
          ]
        }
      ],
      "source": [
        "import random\n",
        "\n",
        "def coupon_collector(n):\n",
        "    # Define coupon names or IDs\n",
        "    coupon_names = [f\"Coupon_{i+1}\" for i in range(n)]\n",
        "    collected = {name: False for name in coupon_names}\n",
        "    draws = 0\n",
        "\n",
        "    while not all(collected.values()):\n",
        "        coupon = random.choice(coupon_names)\n",
        "        collected[coupon] = True\n",
        "        draws += 1\n",
        "\n",
        "    return draws\n",
        "\n",
        "num_trials = 1000\n",
        "total_draws = 0\n",
        "\n",
        "for i in range(num_trials):\n",
        "    total_draws += coupon_collector(10)  # Change 10 to any other number of coupons if needed\n",
        "\n",
        "expected_draws = total_draws / num_trials\n",
        "print(f\"Expected number of draws to collect all 10 coupons: {expected_draws}\")\n"
      ]
    },
    {
      "cell_type": "markdown",
      "metadata": {
        "id": "Jj1tBbUjc5H9"
      },
      "source": [
        "1. 29.368\n",
        "2. 29.619\n",
        "3. 29.794\n",
        "4. 29.312\n",
        "5. 29.537\n",
        "6. 29.597\n",
        "7. 28.788\n",
        "8. 29.09\n",
        "9. 28.998\n",
        "10. 29.497\n",
        "\n",
        "Average: 29.36"
      ]
    },
    {
      "cell_type": "code",
      "execution_count": null,
      "metadata": {
        "colab": {
          "base_uri": "https://localhost:8080/"
        },
        "id": "Jwf81LYsc1ct",
        "outputId": "e14a1118-b323-4b0a-a6ac-33192adc79c0"
      },
      "outputs": [
        {
          "name": "stdout",
          "output_type": "stream",
          "text": [
            "Mean is: 29.36\n"
          ]
        }
      ],
      "source": [
        "import statistics\n",
        "\n",
        "values = [29.368, 29.619, 29.794, 29.312, 29.537, 29.597, 28.788, 29.09, 28.998, 29.497]\n",
        "\n",
        "mean = statistics.mean(values)\n",
        "\n",
        "print(f\"Mean is: {mean}\")"
      ]
    },
    {
      "cell_type": "code",
      "execution_count": null,
      "metadata": {
        "colab": {
          "base_uri": "https://localhost:8080/"
        },
        "id": "dEwz0UlbfOXf",
        "outputId": "af11183c-8b4c-486a-97ef-1d910af27e0e"
      },
      "outputs": [
        {
          "name": "stdout",
          "output_type": "stream",
          "text": [
            "Average number of trials needed to collect all 65536 coupons: 764245.75\n"
          ]
        }
      ],
      "source": [
        "import random\n",
        "\n",
        "def coupon_collector(n):\n",
        "    collected = [False]*n\n",
        "    count = 0\n",
        "    distinct = 0\n",
        "\n",
        "    while distinct < n:\n",
        "        new_coupon = random.randint(0, n-1)\n",
        "        if not collected[new_coupon]:\n",
        "            distinct += 1\n",
        "            collected[new_coupon] = True\n",
        "        count += 1\n",
        "\n",
        "    return count\n",
        "\n",
        "# Test the function\n",
        "n = 65536\n",
        "trials = 100\n",
        "average = sum(coupon_collector(n) for _ in range(trials)) / trials\n",
        "print(f\"Average number of trials needed to collect all {n} coupons: {average}\")"
      ]
    },
    {
      "cell_type": "code",
      "execution_count": null,
      "metadata": {
        "colab": {
          "base_uri": "https://localhost:8080/"
        },
        "id": "SKFEv64Disbi",
        "outputId": "865f6e29-6b76-4452-afe0-72012189a336"
      },
      "outputs": [
        {
          "name": "stdout",
          "output_type": "stream",
          "text": [
            "Average number of trials needed to collect all 65536 coupons: 769166.65\n"
          ]
        }
      ],
      "source": [
        "import random\n",
        "\n",
        "def coupon_collector(n):\n",
        "    collected = [False]*n\n",
        "    count = 0\n",
        "    distinct = 0\n",
        "\n",
        "    while distinct < n:\n",
        "        new_coupon = random.randint(0, n-1)\n",
        "        if not collected[new_coupon]:\n",
        "            distinct += 1\n",
        "            collected[new_coupon] = True\n",
        "        count += 1\n",
        "\n",
        "    return count\n",
        "\n",
        "# Test the function\n",
        "n = 65536\n",
        "trials = 100\n",
        "average = sum(coupon_collector(n) for _ in range(trials)) / trials\n",
        "print(f\"Average number of trials needed to collect all {n} coupons: {average}\")"
      ]
    },
    {
      "cell_type": "code",
      "execution_count": null,
      "metadata": {
        "colab": {
          "base_uri": "https://localhost:8080/"
        },
        "id": "nARg5n7ajpGr",
        "outputId": "b2a86236-db1e-427e-c222-40b750a54dfe"
      },
      "outputs": [
        {
          "name": "stdout",
          "output_type": "stream",
          "text": [
            "Average number of trials needed to collect all 65536 coupons: 760555.57\n"
          ]
        }
      ],
      "source": [
        "import random\n",
        "\n",
        "def coupon_collector(n):\n",
        "    collected = [False]*n\n",
        "    count = 0\n",
        "    distinct = 0\n",
        "\n",
        "    while distinct < n:\n",
        "        new_coupon = random.randint(0, n-1)\n",
        "        if not collected[new_coupon]:\n",
        "            distinct += 1\n",
        "            collected[new_coupon] = True\n",
        "        count += 1\n",
        "\n",
        "    return count\n",
        "\n",
        "# Test the function\n",
        "n = 65536\n",
        "trials = 100\n",
        "average = sum(coupon_collector(n) for _ in range(trials)) / trials\n",
        "print(f\"Average number of trials needed to collect all {n} coupons: {average}\")"
      ]
    },
    {
      "cell_type": "code",
      "execution_count": null,
      "metadata": {
        "id": "3jk8BRQPoVwC"
      },
      "outputs": [],
      "source": [
        "import random\n",
        "\n",
        "def coupon_collector(n):\n",
        "    collected = [False]*n\n",
        "    count = 0\n",
        "    distinct = 0\n",
        "\n",
        "    while distinct < n:\n",
        "        new_coupon = random.randint(0, n-1)\n",
        "        if not collected[new_coupon]:\n",
        "            distinct += 1\n",
        "            collected[new_coupon] = True\n",
        "        count += 1\n",
        "\n",
        "    return count\n",
        "\n",
        "# Test the function\n",
        "n = 65536\n",
        "trials = 100\n",
        "average = sum(coupon_collector(n) for _ in range(trials)) / trials\n",
        "print(f\"Average number of trials needed to collect all {n} coupons: {average}\")"
      ]
    },
    {
      "cell_type": "code",
      "execution_count": null,
      "metadata": {
        "colab": {
          "background_save": true
        },
        "id": "Z_BsuGCooXDK",
        "outputId": "a47846dd-1805-4f8c-8840-104749b2c443"
      },
      "outputs": [
        {
          "name": "stdout",
          "output_type": "stream",
          "text": [
            "Average number of trials needed to collect all 65536 coupons: 768894.43\n"
          ]
        }
      ],
      "source": [
        "import random\n",
        "\n",
        "def coupon_collector(n):\n",
        "    collected = [False]*n\n",
        "    count = 0\n",
        "    distinct = 0\n",
        "\n",
        "    while distinct < n:\n",
        "        new_coupon = random.randint(0, n-1)\n",
        "        if not collected[new_coupon]:\n",
        "            distinct += 1\n",
        "            collected[new_coupon] = True\n",
        "        count += 1\n",
        "\n",
        "    return count\n",
        "\n",
        "# Test the function\n",
        "n = 65536\n",
        "trials = 100\n",
        "average = sum(coupon_collector(n) for _ in range(trials)) / trials\n",
        "print(f\"Average number of trials needed to collect all {n} coupons: {average}\")"
      ]
    },
    {
      "cell_type": "code",
      "execution_count": null,
      "metadata": {
        "colab": {
          "base_uri": "https://localhost:8080/"
        },
        "id": "D4b8v5kKoYcj",
        "outputId": "2be74d56-9c86-415d-f255-a7b167b0d061"
      },
      "outputs": [
        {
          "name": "stdout",
          "output_type": "stream",
          "text": [
            "Average number of trials needed to collect all 65536 coupons: 762247.76\n"
          ]
        }
      ],
      "source": [
        "import random\n",
        "\n",
        "def coupon_collector(n):\n",
        "    collected = [False]*n\n",
        "    count = 0\n",
        "    distinct = 0\n",
        "\n",
        "    while distinct < n:\n",
        "        new_coupon = random.randint(0, n-1)\n",
        "        if not collected[new_coupon]:\n",
        "            distinct += 1\n",
        "            collected[new_coupon] = True\n",
        "        count += 1\n",
        "\n",
        "    return count\n",
        "\n",
        "# Test the function\n",
        "n = 65536\n",
        "trials = 100\n",
        "average = sum(coupon_collector(n) for _ in range(trials)) / trials\n",
        "print(f\"Average number of trials needed to collect all {n} coupons: {average}\")"
      ]
    },
    {
      "cell_type": "code",
      "execution_count": null,
      "metadata": {
        "colab": {
          "base_uri": "https://localhost:8080/"
        },
        "id": "VXgmguWfonjh",
        "outputId": "3fa5e35a-1ad2-4c7c-a3ab-e0db9018692f"
      },
      "outputs": [
        {
          "name": "stdout",
          "output_type": "stream",
          "text": [
            "Average number of trials needed to collect all 65536 coupons: 768331.63\n"
          ]
        }
      ],
      "source": [
        "import random\n",
        "\n",
        "def coupon_collector(n):\n",
        "    collected = [False]*n\n",
        "    count = 0\n",
        "    distinct = 0\n",
        "\n",
        "    while distinct < n:\n",
        "        new_coupon = random.randint(0, n-1)\n",
        "        if not collected[new_coupon]:\n",
        "            distinct += 1\n",
        "            collected[new_coupon] = True\n",
        "        count += 1\n",
        "\n",
        "    return count\n",
        "\n",
        "# Test the function\n",
        "n = 65536\n",
        "trials = 100\n",
        "average = sum(coupon_collector(n) for _ in range(trials)) / trials\n",
        "print(f\"Average number of trials needed to collect all {n} coupons: {average}\")"
      ]
    },
    {
      "cell_type": "code",
      "execution_count": null,
      "metadata": {
        "colab": {
          "base_uri": "https://localhost:8080/"
        },
        "id": "3omM3uGSoox8",
        "outputId": "f299caa2-975c-45ab-872a-e06576797fe0"
      },
      "outputs": [
        {
          "name": "stdout",
          "output_type": "stream",
          "text": [
            "Average number of trials needed to collect all 65536 coupons: 770661.18\n"
          ]
        }
      ],
      "source": [
        "import random\n",
        "\n",
        "def coupon_collector(n):\n",
        "    collected = [False]*n\n",
        "    count = 0\n",
        "    distinct = 0\n",
        "\n",
        "    while distinct < n:\n",
        "        new_coupon = random.randint(0, n-1)\n",
        "        if not collected[new_coupon]:\n",
        "            distinct += 1\n",
        "            collected[new_coupon] = True\n",
        "        count += 1\n",
        "\n",
        "    return count\n",
        "\n",
        "# Test the function\n",
        "n = 65536\n",
        "trials = 100\n",
        "average = sum(coupon_collector(n) for _ in range(trials)) / trials\n",
        "print(f\"Average number of trials needed to collect all {n} coupons: {average}\")"
      ]
    },
    {
      "cell_type": "code",
      "source": [
        "def fast_exponentiation(b, e, m):\n",
        "    result = 1\n",
        "    while e > 0:\n",
        "        if e % 2 == 1:\n",
        "            result = (result * b) % m\n",
        "        e = e // 2\n",
        "        b = (b * b) % m\n",
        "    return result\n",
        "\n",
        "print(fast_exponentiation(4.4441539131*1000000000000000000000000000,81,7853))\n"
      ],
      "metadata": {
        "colab": {
          "base_uri": "https://localhost:8080/"
        },
        "id": "YmFL2fO-OQZG",
        "outputId": "e24d370e-f2b1-41b3-a6e6-ba9396c5daa1"
      },
      "execution_count": null,
      "outputs": [
        {
          "output_type": "stream",
          "name": "stdout",
          "text": [
            "3867.0\n"
          ]
        }
      ]
    }
  ],
  "metadata": {
    "colab": {
      "provenance": []
    },
    "kernelspec": {
      "display_name": "Python 3",
      "name": "python3"
    },
    "language_info": {
      "name": "python"
    }
  },
  "nbformat": 4,
  "nbformat_minor": 0
}